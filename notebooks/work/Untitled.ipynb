{
 "cells": [
  {
   "cell_type": "code",
   "execution_count": 4,
   "id": "4c5874af-732b-4a60-9ec2-973e09b27d74",
   "metadata": {},
   "outputs": [
    {
     "name": "stdout",
     "output_type": "stream",
     "text": [
      "Collecting qdrant-client\n",
      "  Using cached qdrant_client-1.13.3-py3-none-any.whl (306 kB)\n",
      "Collecting httpx[http2]>=0.20.0\n",
      "  Using cached httpx-0.28.1-py3-none-any.whl (73 kB)\n",
      "Requirement already satisfied: numpy<2.1.0,>=1.21 in /opt/conda/lib/python3.9/site-packages (from qdrant-client) (1.23.3)\n",
      "Requirement already satisfied: grpcio>=1.41.0 in /opt/conda/lib/python3.9/site-packages (from qdrant-client) (1.47.5)\n",
      "Collecting portalocker<3.0.0,>=2.7.0\n",
      "  Using cached portalocker-2.10.1-py3-none-any.whl (18 kB)\n",
      "Requirement already satisfied: urllib3<3,>=1.26.14 in /opt/conda/lib/python3.9/site-packages (from qdrant-client) (2.3.0)\n",
      "Collecting grpcio-tools>=1.41.0\n",
      "  Using cached grpcio_tools-1.71.0-cp39-cp39-manylinux_2_17_x86_64.manylinux2014_x86_64.whl (2.5 MB)\n",
      "Requirement already satisfied: pydantic>=1.10.8 in /opt/conda/lib/python3.9/site-packages (from qdrant-client) (2.11.1)\n",
      "Requirement already satisfied: six>=1.5.2 in /opt/conda/lib/python3.9/site-packages (from grpcio>=1.41.0->qdrant-client) (1.16.0)\n",
      "Collecting protobuf<6.0dev,>=5.26.1\n",
      "  Using cached protobuf-5.29.4-cp38-abi3-manylinux2014_x86_64.whl (319 kB)\n",
      "Collecting grpcio>=1.41.0\n",
      "  Using cached grpcio-1.71.0-cp39-cp39-manylinux_2_17_x86_64.manylinux2014_x86_64.whl (5.9 MB)\n",
      "Requirement already satisfied: setuptools in /opt/conda/lib/python3.9/site-packages (from grpcio-tools>=1.41.0->qdrant-client) (65.4.1)\n",
      "Requirement already satisfied: anyio in /opt/conda/lib/python3.9/site-packages (from httpx[http2]>=0.20.0->qdrant-client) (3.6.1)\n",
      "Requirement already satisfied: idna in /opt/conda/lib/python3.9/site-packages (from httpx[http2]>=0.20.0->qdrant-client) (3.4)\n",
      "Collecting httpcore==1.*\n",
      "  Using cached httpcore-1.0.7-py3-none-any.whl (78 kB)\n",
      "Requirement already satisfied: certifi in /opt/conda/lib/python3.9/site-packages (from httpx[http2]>=0.20.0->qdrant-client) (2022.9.24)\n",
      "Collecting h2<5,>=3\n",
      "  Using cached h2-4.2.0-py3-none-any.whl (60 kB)\n",
      "Collecting h11<0.15,>=0.13\n",
      "  Using cached h11-0.14.0-py3-none-any.whl (58 kB)\n",
      "Requirement already satisfied: typing-extensions>=4.12.2 in /opt/conda/lib/python3.9/site-packages (from pydantic>=1.10.8->qdrant-client) (4.13.0)\n",
      "Requirement already satisfied: typing-inspection>=0.4.0 in /opt/conda/lib/python3.9/site-packages (from pydantic>=1.10.8->qdrant-client) (0.4.0)\n",
      "Requirement already satisfied: pydantic-core==2.33.0 in /opt/conda/lib/python3.9/site-packages (from pydantic>=1.10.8->qdrant-client) (2.33.0)\n",
      "Requirement already satisfied: annotated-types>=0.6.0 in /opt/conda/lib/python3.9/site-packages (from pydantic>=1.10.8->qdrant-client) (0.7.0)\n",
      "Collecting hyperframe<7,>=6.1\n",
      "  Using cached hyperframe-6.1.0-py3-none-any.whl (13 kB)\n",
      "Collecting hpack<5,>=4.1\n",
      "  Using cached hpack-4.1.0-py3-none-any.whl (34 kB)\n",
      "Requirement already satisfied: sniffio>=1.1 in /opt/conda/lib/python3.9/site-packages (from anyio->httpx[http2]>=0.20.0->qdrant-client) (1.3.0)\n",
      "Installing collected packages: protobuf, portalocker, hyperframe, hpack, h11, grpcio, httpcore, h2, grpcio-tools, httpx, qdrant-client\n",
      "\u001b[33m  WARNING: The script httpx is installed in '/home/jovyan/.local/bin' which is not on PATH.\n",
      "  Consider adding this directory to PATH or, if you prefer to suppress this warning, use --no-warn-script-location.\u001b[0m\u001b[33m\n",
      "\u001b[0m\u001b[31mERROR: pip's dependency resolver does not currently take into account all the packages that are installed. This behaviour is the source of the following dependency conflicts.\n",
      "dagster 1.1.20 requires grpcio<1.48.1,>=1.32.0, but you have grpcio 1.71.0 which is incompatible.\n",
      "dagster 1.1.20 requires protobuf<4,>=3.13.0, but you have protobuf 5.29.4 which is incompatible.\u001b[0m\u001b[31m\n",
      "\u001b[0mSuccessfully installed grpcio-1.71.0 grpcio-tools-1.71.0 h11-0.14.0 h2-4.2.0 hpack-4.1.0 httpcore-1.0.7 httpx-0.28.1 hyperframe-6.1.0 portalocker-2.10.1 protobuf-5.29.4 qdrant-client-1.13.3\n",
      "Note: you may need to restart the kernel to use updated packages.\n"
     ]
    }
   ],
   "source": [
    "pip install qdrant-client --user"
   ]
  },
  {
   "cell_type": "code",
   "execution_count": 5,
   "id": "f078f967-d5b3-4bae-be29-9d629e2445ab",
   "metadata": {},
   "outputs": [
    {
     "ename": "ModuleNotFoundError",
     "evalue": "No module named 'qdrant_client'",
     "output_type": "error",
     "traceback": [
      "\u001b[0;31m---------------------------------------------------------------------------\u001b[0m",
      "\u001b[0;31mModuleNotFoundError\u001b[0m                       Traceback (most recent call last)",
      "Cell \u001b[0;32mIn [5], line 1\u001b[0m\n\u001b[0;32m----> 1\u001b[0m \u001b[38;5;28;01mfrom\u001b[39;00m \u001b[38;5;21;01mqdrant_client\u001b[39;00m \u001b[38;5;28;01mimport\u001b[39;00m QdrantClient\n\u001b[1;32m      3\u001b[0m \u001b[38;5;28mprint\u001b[39m(\u001b[38;5;124m\"\u001b[39m\u001b[38;5;124mAttempting to connect to Qdrant at http://qdrant.d2f.io.vn\u001b[39m\u001b[38;5;124m\"\u001b[39m)\n\u001b[1;32m      4\u001b[0m \u001b[38;5;28;01mtry\u001b[39;00m:\n",
      "\u001b[0;31mModuleNotFoundError\u001b[0m: No module named 'qdrant_client'"
     ]
    }
   ],
   "source": [
    "from qdrant_client import QdrantClient\n",
    "\n",
    "print(\"Attempting to connect to Qdrant at http://qdrant.d2f.io.vn\")\n",
    "try:\n",
    "    client = QdrantClient(url=\"http://qdrant.d2f.io.vn\")\n",
    "    print(\"Connected to Qdrant, recreating collection\")\n",
    "    client.recreate_collection(\n",
    "        collection_name=\"test_v2\",  # Replace with your COLLECTION_NAME\n",
    "        vectors_config={\"size\": 128, \"distance\": \"Cosine\"},\n",
    "    )\n",
    "except Exception as e:\n",
    "    print(f\"Failed to connect to Qdrant: {str(e)}\")"
   ]
  },
  {
   "cell_type": "code",
   "execution_count": null,
   "id": "875bd74a-60f2-4206-b932-29eac436d6b4",
   "metadata": {},
   "outputs": [],
   "source": []
  }
 ],
 "metadata": {
  "kernelspec": {
   "display_name": "Python 3 (ipykernel)",
   "language": "python",
   "name": "python3"
  },
  "language_info": {
   "codemirror_mode": {
    "name": "ipython",
    "version": 3
   },
   "file_extension": ".py",
   "mimetype": "text/x-python",
   "name": "python",
   "nbconvert_exporter": "python",
   "pygments_lexer": "ipython3",
   "version": "3.9.13"
  }
 },
 "nbformat": 4,
 "nbformat_minor": 5
}
