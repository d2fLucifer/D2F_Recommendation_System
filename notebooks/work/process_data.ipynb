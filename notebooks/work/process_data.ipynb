{
 "cells": [
  {
   "cell_type": "code",
   "execution_count": 7,
   "id": "3096cb22-317d-4335-a334-2ad3617a153a",
   "metadata": {},
   "outputs": [],
   "source": [
    "from pyspark.sql import SparkSession\n",
    "from pyspark.sql.functions import col, get_json_object\n",
    "import logging\n",
    "\n",
    "# Cấu hình logging\n",
    "logging.basicConfig(level=logging.INFO)\n",
    "logger = logging.getLogger(__name__)"
   ]
  },
  {
   "cell_type": "code",
   "execution_count": 8,
   "id": "a7624719-f4f1-4524-9166-ac1a0738cfb3",
   "metadata": {},
   "outputs": [],
   "source": [
    "spark = SparkSession.builder \\\n",
    "    .appName(\"ReadCSV\") \\\n",
    "    .getOrCreate()"
   ]
  },
  {
   "cell_type": "code",
   "execution_count": 13,
   "id": "81dc6538-6037-45fb-8e9b-6ec4aaeaf487",
   "metadata": {},
   "outputs": [],
   "source": [
    "from pyspark.sql.functions import base64, col\n",
    "\n",
    "df = spark.read.csv(\"product_output/generate_description.csv\",  header=True, inferSchema=True, escape='\"')\n",
    "df_encoded = df.withColumn(\"new_description\", base64(col(\"new_description\")))\n",
    "\n",
    "df_filtered.write.csv(\"renamed\", header=True, mode=\"overwrite\", quote='\"', escape='\"')\n"
   ]
  },
  {
   "cell_type": "code",
   "execution_count": 6,
   "id": "82a4ce20-037b-456f-9c80-5f11df4ba142",
   "metadata": {},
   "outputs": [],
   "source": [
    "from pyspark.sql.functions import col, regexp_replace, get_json_object\n",
    "\n",
    "# Chọn cột và đổi tên\n",
    "selected_columns = [\"productID\", \"name\", \"rating\", \"category\", \"brand\", \"type\", \"price\", \"image[0]\", \"new_description\"]\n",
    "df_filtered = df.select(*selected_columns).withColumnRenamed(\"image[0]\", \"MainImage\")\n",
    "\n",
    "\n",
    "\n",
    "\n",
    "\n",
    "# df_filtered.write.csv(\"renamed\", header=True, mode=\"overwrite\")\n"
   ]
  },
  {
   "cell_type": "code",
   "execution_count": null,
   "id": "552ae806-893f-4d4c-9e36-5fac1aaad5f8",
   "metadata": {},
   "outputs": [],
   "source": []
  },
  {
   "cell_type": "code",
   "execution_count": null,
   "id": "709dbc67-3719-4020-8ec4-84266e8260ec",
   "metadata": {},
   "outputs": [],
   "source": []
  }
 ],
 "metadata": {
  "kernelspec": {
   "display_name": "Python 3 (ipykernel)",
   "language": "python",
   "name": "python3"
  },
  "language_info": {
   "codemirror_mode": {
    "name": "ipython",
    "version": 3
   },
   "file_extension": ".py",
   "mimetype": "text/x-python",
   "name": "python",
   "nbconvert_exporter": "python",
   "pygments_lexer": "ipython3",
   "version": "3.9.13"
  }
 },
 "nbformat": 4,
 "nbformat_minor": 5
}
