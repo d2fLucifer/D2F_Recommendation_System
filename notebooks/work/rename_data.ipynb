{
 "cells": [
  {
   "cell_type": "code",
   "execution_count": 34,
   "id": "f8d1ebe4-7a89-4883-a64f-738dda5782d7",
   "metadata": {},
   "outputs": [
    {
     "name": "stderr",
     "output_type": "stream",
     "text": [
      "INFO:kafka.conn:<BrokerConnection client_id=kafka-python-2.0.6, node_id=bootstrap-0 host=kafka.d2f.io.vn:9092 <connecting> [IPv4 ('103.155.161.100', 9092)]>: connecting to kafka.d2f.io.vn:9092 [('103.155.161.100', 9092) IPv4]\n",
      "INFO:kafka.conn:Probing node bootstrap-0 broker version\n",
      "INFO:kafka.conn:<BrokerConnection client_id=kafka-python-2.0.6, node_id=bootstrap-0 host=kafka.d2f.io.vn:9092 <connecting> [IPv4 ('103.155.161.100', 9092)]>: Connection complete.\n",
      "INFO:kafka.conn:Broker version identified as 2.2.0\n",
      "INFO:kafka.conn:Set configuration api_version=(2, 2, 0) to skip auto check_version requests on startup\n",
      "INFO:kafka.conn:<BrokerConnection client_id=kafka-python-2.0.6, node_id=1 host=kafka.d2f.io.vn:9092 <connecting> [IPv4 ('103.155.161.100', 9092)]>: connecting to kafka.d2f.io.vn:9092 [('103.155.161.100', 9092) IPv4]\n",
      "INFO:kafka.conn:Probing node 1 broker version\n",
      "INFO:kafka.conn:<BrokerConnection client_id=kafka-python-2.0.6, node_id=1 host=kafka.d2f.io.vn:9092 <connecting> [IPv4 ('103.155.161.100', 9092)]>: Connection complete.\n",
      "INFO:kafka.conn:<BrokerConnection client_id=kafka-python-2.0.6, node_id=bootstrap-0 host=kafka.d2f.io.vn:9092 <connected> [IPv4 ('103.155.161.100', 9092)]>: Closing connection. \n",
      "INFO:kafka.conn:Broker version identified as 2.2.0\n",
      "INFO:kafka.conn:Set configuration api_version=(2, 2, 0) to skip auto check_version requests on startup\n",
      "INFO:kafka.conn:<BrokerConnection client_id=kafka-python-producer-24, node_id=bootstrap-0 host=kafka.d2f.io.vn:9092 <connecting> [IPv4 ('103.155.161.100', 9092)]>: connecting to kafka.d2f.io.vn:9092 [('103.155.161.100', 9092) IPv4]\n",
      "INFO:kafka.conn:Probing node bootstrap-0 broker version\n",
      "INFO:kafka.conn:<BrokerConnection client_id=kafka-python-producer-24, node_id=bootstrap-0 host=kafka.d2f.io.vn:9092 <connecting> [IPv4 ('103.155.161.100', 9092)]>: Connection complete.\n",
      "INFO:kafka.conn:Broker version identified as 2.2.0\n",
      "INFO:kafka.conn:Set configuration api_version=(2, 2, 0) to skip auto check_version requests on startup\n",
      "INFO:kafka.conn:<BrokerConnection client_id=kafka-python-producer-24, node_id=1 host=kafka.d2f.io.vn:9092 <connecting> [IPv4 ('103.155.161.100', 9092)]>: connecting to kafka.d2f.io.vn:9092 [('103.155.161.100', 9092) IPv4]\n"
     ]
    },
    {
     "name": "stdout",
     "output_type": "stream",
     "text": [
      "Topic 'model_retrain_event' created successfully.\n"
     ]
    },
    {
     "name": "stderr",
     "output_type": "stream",
     "text": [
      "INFO:kafka.conn:<BrokerConnection client_id=kafka-python-producer-24, node_id=1 host=kafka.d2f.io.vn:9092 <connecting> [IPv4 ('103.155.161.100', 9092)]>: Connection complete.\n",
      "INFO:kafka.conn:<BrokerConnection client_id=kafka-python-producer-24, node_id=bootstrap-0 host=kafka.d2f.io.vn:9092 <connected> [IPv4 ('103.155.161.100', 9092)]>: Closing connection. \n",
      "INFO:kafka.conn:<BrokerConnection client_id=kafka-python-producer-24, node_id=1 host=kafka.d2f.io.vn:9092 <connected> [IPv4 ('103.155.161.100', 9092)]>: Closing connection. \n"
     ]
    },
    {
     "name": "stdout",
     "output_type": "stream",
     "text": [
      "Sent notification to AI module: {'event': 'data_ready', 'timestamp': 1741611755, 'message': 'New data has been injected to Qdrant. AI module should retrain the model.'}\n"
     ]
    }
   ],
   "source": [
    "from kafka import KafkaProducer, KafkaAdminClient\n",
    "from kafka.admin import NewTopic\n",
    "import json\n",
    "import sys\n",
    "from datetime import datetime\n",
    "\n",
    "KAFKA_BROKER = \"kafka.d2f.io.vn:9092\"  # Thay bằng địa chỉ Kafka của bạn\n",
    "TOPIC = \"model_retrain_event\"\n",
    "\n",
    "def create_topic_if_not_exists():\n",
    "    try:\n",
    "        admin_client = KafkaAdminClient(bootstrap_servers=KAFKA_BROKER)\n",
    "        existing_topics = admin_client.list_topics()\n",
    "\n",
    "        if TOPIC not in existing_topics:\n",
    "            topic = NewTopic(name=TOPIC, num_partitions=1, replication_factor=1)\n",
    "            admin_client.create_topics([topic])\n",
    "            print(f\"Topic '{TOPIC}' created successfully.\")\n",
    "        else:\n",
    "            print(f\"Topic '{TOPIC}' already exists.\")\n",
    "\n",
    "    except Exception as e:\n",
    "        print(f\"Error checking/creating topic: {e}\")\n",
    "\n",
    "def notify_ai_module():\n",
    "    producer = KafkaProducer(\n",
    "        bootstrap_servers=KAFKA_BROKER,\n",
    "        value_serializer=lambda v: json.dumps(v).encode(\"utf-8\"),\n",
    "    )\n",
    "\n",
    "    message = {\n",
    "        \"event\": \"data_ready\",\n",
    "        \"timestamp\": int(datetime.utcnow().timestamp()),\n",
    "        \"message\": \"New data has been injected to Qdrant. AI module should retrain the model.\",\n",
    "    }\n",
    "\n",
    "    producer.send(TOPIC, value=message)\n",
    "    producer.flush()\n",
    "    print(f\"Sent notification to AI module: {message}\")\n",
    "\n",
    "if __name__ == \"__main__\":\n",
    "    try:\n",
    "        create_topic_if_not_exists()\n",
    "        notify_ai_module()\n",
    "    except Exception as e:\n",
    "        print(f\"Failed to notify AI module: {str(e)}\")\n",
    "        sys.exit(1)\n"
   ]
  },
  {
   "cell_type": "code",
   "execution_count": 33,
   "id": "aebe377c-3b76-44c8-91ee-3e6b1331e650",
   "metadata": {},
   "outputs": [
    {
     "name": "stderr",
     "output_type": "stream",
     "text": [
      "INFO:kafka.conn:<BrokerConnection client_id=kafka-python-producer-23, node_id=bootstrap-0 host=kafka.d2f.io.vn:9092 <connecting> [IPv4 ('103.155.161.100', 9092)]>: connecting to kafka.d2f.io.vn:9092 [('103.155.161.100', 9092) IPv4]\n",
      "INFO:kafka.conn:Probing node bootstrap-0 broker version\n",
      "INFO:kafka.conn:<BrokerConnection client_id=kafka-python-producer-23, node_id=bootstrap-0 host=kafka.d2f.io.vn:9092 <connecting> [IPv4 ('103.155.161.100', 9092)]>: Connection complete.\n",
      "INFO:kafka.conn:Broker version identified as 2.2.0\n",
      "INFO:kafka.conn:Set configuration api_version=(2, 2, 0) to skip auto check_version requests on startup\n",
      "INFO:kafka.conn:<BrokerConnection client_id=kafka-python-producer-23, node_id=1 host=kafka.d2f.io.vn:9092 <connecting> [IPv4 ('103.155.161.100', 9092)]>: connecting to kafka.d2f.io.vn:9092 [('103.155.161.100', 9092) IPv4]\n",
      "INFO:kafka.conn:<BrokerConnection client_id=kafka-python-producer-23, node_id=1 host=kafka.d2f.io.vn:9092 <connecting> [IPv4 ('103.155.161.100', 9092)]>: Connection complete.\n",
      "INFO:kafka.conn:<BrokerConnection client_id=kafka-python-producer-23, node_id=bootstrap-0 host=kafka.d2f.io.vn:9092 <connected> [IPv4 ('103.155.161.100', 9092)]>: Closing connection. \n",
      "INFO:kafka.conn:<BrokerConnection client_id=kafka-python-producer-23, node_id=1 host=kafka.d2f.io.vn:9092 <connected> [IPv4 ('103.155.161.100', 9092)]>: Closing connection. \n"
     ]
    },
    {
     "name": "stdout",
     "output_type": "stream",
     "text": [
      "Sent notification to AI module: {'event': 'data_ready', 'timestamp': 1741611678, 'message': 'New data has been injected to Qdrant. AI module should retrain the model.'}\n"
     ]
    }
   ],
   "source": [
    "from kafka import KafkaProducer\n",
    "import json\n",
    "import sys\n",
    "from datetime import datetime\n",
    "\n",
    "KAFKA_BROKER = \"kafka.d2f.io.vn:9092\"  # Thay bằng địa chỉ Kafka của bạn\n",
    "TOPIC = \"model_retrain_event\"\n",
    "\n",
    "def notify_ai_module():\n",
    "    producer = KafkaProducer(\n",
    "        bootstrap_servers=KAFKA_BROKER,\n",
    "        value_serializer=lambda v: json.dumps(v).encode(\"utf-8\"),\n",
    "    )\n",
    "    \n",
    "    message = {\n",
    "        \"event\": \"data_ready\",\n",
    "        \"timestamp\": int(datetime.utcnow().timestamp()),\n",
    "        \"message\": \"New data has been injected to Qdrant. AI module should retrain the model.\",\n",
    "    }\n",
    "    \n",
    "    producer.send(TOPIC, value=message)\n",
    "    producer.flush()\n",
    "    print(f\"Sent notification to AI module: {message}\")\n",
    "\n",
    "if __name__ == \"__main__\":\n",
    "    try:\n",
    "        notify_ai_module()\n",
    "    except Exception as e:\n",
    "        print(f\"Failed to notify AI module: {str(e)}\")\n",
    "        sys.exit(1)\n"
   ]
  },
  {
   "cell_type": "code",
   "execution_count": 3,
   "id": "3231e573-1b2f-4694-b6ea-4b73609d552a",
   "metadata": {},
   "outputs": [
    {
     "name": "stdout",
     "output_type": "stream",
     "text": [
      "\n",
      "Calculating total messages in topic 'model_retrain_event'...\n",
      "Connecting to Kafka broker: kafka.d2f.io.vn:9092\n",
      "Partition 0: 1 messages (offsets 13 to 14)\n",
      "\n",
      "Total messages in topic 'model_retrain_event': 1\n"
     ]
    }
   ],
   "source": [
    "from kafka import KafkaConsumer, TopicPartition\n",
    "\n",
    "# Configuration\n",
    "KAFKA_BROKER = \"kafka.d2f.io.vn:9092\"\n",
    "TOPIC = \"model_retrain_event\"\n",
    "\n",
    "def count_messages(bootstrap_servers, topic, group_id=None):\n",
    "    \"\"\"\n",
    "    Calculate the total number of messages in a Kafka topic.\n",
    "    \n",
    "    Args:\n",
    "        bootstrap_servers (str): Kafka bootstrap servers\n",
    "        topic (str): Name of the Kafka topic\n",
    "        group_id (str, optional): Consumer group ID\n",
    "    \n",
    "    Returns:\n",
    "        int: Total number of messages in the topic\n",
    "    \"\"\"\n",
    "    try:\n",
    "        # Initialize Kafka consumer\n",
    "        consumer = KafkaConsumer(\n",
    "            bootstrap_servers=bootstrap_servers,\n",
    "            auto_offset_reset='earliest',\n",
    "            enable_auto_commit=False,\n",
    "            group_id=group_id\n",
    "        )\n",
    "\n",
    "        # Get topic partitions\n",
    "        partitions = consumer.partitions_for_topic(topic)\n",
    "        if not partitions:\n",
    "            raise ValueError(f\"Topic '{topic}' does not exist or has no partitions\")\n",
    "\n",
    "        total_messages = 0\n",
    "        \n",
    "        # Calculate messages for each partition\n",
    "        for partition in partitions:\n",
    "            tp = TopicPartition(topic, partition)\n",
    "            \n",
    "            # Assign the partition to consumer\n",
    "            consumer.assign([tp])\n",
    "            \n",
    "            # Get earliest offset\n",
    "            consumer.seek_to_beginning(tp)\n",
    "            earliest_offset = consumer.position(tp)\n",
    "            \n",
    "            # Get latest offset\n",
    "            consumer.seek_to_end(tp)\n",
    "            latest_offset = consumer.position(tp)\n",
    "            \n",
    "            # Calculate message count for this partition\n",
    "            partition_messages = latest_offset - earliest_offset\n",
    "            total_messages += partition_messages\n",
    "            \n",
    "            print(f\"Partition {partition}: {partition_messages} messages \"\n",
    "                  f\"(offsets {earliest_offset} to {latest_offset})\")\n",
    "\n",
    "        consumer.close()\n",
    "        return total_messages\n",
    "\n",
    "    except Exception as e:\n",
    "        print(f\"Error: {str(e)}\")\n",
    "        return -1\n",
    "\n",
    "def main():\n",
    "    print(f\"\\nCalculating total messages in topic '{TOPIC}'...\")\n",
    "    print(f\"Connecting to Kafka broker: {KAFKA_BROKER}\")\n",
    "    \n",
    "    total = count_messages(\n",
    "        bootstrap_servers=KAFKA_BROKER,\n",
    "        topic=TOPIC,\n",
    "        group_id=None  # You can specify a group ID here if needed\n",
    "    )\n",
    "\n",
    "    if total >= 0:\n",
    "        print(f\"\\nTotal messages in topic '{TOPIC}': {total}\")\n",
    "    else:\n",
    "        print(\"Failed to calculate message count\")\n",
    "\n",
    "if __name__ == \"__main__\":\n",
    "    main()"
   ]
  },
  {
   "cell_type": "code",
   "execution_count": 2,
   "id": "ee6b4a1a-12ed-45b7-8390-5d2bbec0e382",
   "metadata": {},
   "outputs": [
    {
     "name": "stdout",
     "output_type": "stream",
     "text": [
      "Collecting kafka-python\n",
      "  Downloading kafka_python-2.0.6-py2.py3-none-any.whl (252 kB)\n",
      "\u001b[2K     \u001b[90m━━━━━━━━━━━━━━━━━━━━━━━━━━━━━━━━━━━━━━━\u001b[0m \u001b[32m252.1/252.1 kB\u001b[0m \u001b[31m4.3 MB/s\u001b[0m eta \u001b[36m0:00:00\u001b[0ma \u001b[36m0:00:01\u001b[0m\n",
      "\u001b[?25hInstalling collected packages: kafka-python\n",
      "Successfully installed kafka-python-2.0.6\n",
      "Note: you may need to restart the kernel to use updated packages.\n"
     ]
    }
   ],
   "source": []
  },
  {
   "cell_type": "code",
   "execution_count": null,
   "id": "211b0c57-26d9-4ebd-9799-ec1ad9a26731",
   "metadata": {},
   "outputs": [],
   "source": []
  }
 ],
 "metadata": {
  "kernelspec": {
   "display_name": "Python 3 (ipykernel)",
   "language": "python",
   "name": "python3"
  },
  "language_info": {
   "codemirror_mode": {
    "name": "ipython",
    "version": 3
   },
   "file_extension": ".py",
   "mimetype": "text/x-python",
   "name": "python",
   "nbconvert_exporter": "python",
   "pygments_lexer": "ipython3",
   "version": "3.9.13"
  }
 },
 "nbformat": 4,
 "nbformat_minor": 5
}
