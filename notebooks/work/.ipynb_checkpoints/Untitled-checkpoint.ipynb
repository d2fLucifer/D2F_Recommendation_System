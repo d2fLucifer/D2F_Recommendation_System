{
 "cells": [
  {
   "cell_type": "code",
   "execution_count": 1,
   "id": "c42d5f16-0355-470b-9bdd-e88d144e35e4",
   "metadata": {},
   "outputs": [],
   "source": [
    "from pyspark.sql import SparkSession\n",
    "from pyspark.sql.functions import udf, col\n",
    "from pyspark.sql.types import StringType\n",
    "import requests\n",
    "import json\n",
    "import logging"
   ]
  },
  {
   "cell_type": "code",
   "execution_count": 2,
   "id": "87aac47a-25a1-470e-bb4b-33d345c26b2b",
   "metadata": {},
   "outputs": [],
   "source": [
    "logging.basicConfig(level=logging.INFO)\n",
    "logger = logging.getLogger(__name__)\n",
    "\n",
    "# Endpoint API của Ollama\n",
    "OLLAMA_ENDPOINT = \"http://host.docker.internal:11434/api/generate\""
   ]
  },
  {
   "cell_type": "code",
   "execution_count": 3,
   "id": "1bcce9cd-837f-4996-9b7b-7a99b0ce3638",
   "metadata": {},
   "outputs": [],
   "source": [
    "spark = SparkSession.builder.appName(\"ReadCSV\").getOrCreate()\n",
    "\n",
    "# Đọc file CSV\n",
    "df = spark.read.csv(\"recommendation_system.products.csv\", header=True, inferSchema=True)\n",
    "df = df.limit(1)\n"
   ]
  },
  {
   "cell_type": "code",
   "execution_count": 4,
   "id": "0bfbed15-bbdc-4e95-9b77-4a45026f6efe",
   "metadata": {},
   "outputs": [],
   "source": []
  },
  {
   "cell_type": "code",
   "execution_count": null,
   "id": "8f0759ab-a730-48b7-8e1e-0a5d62be58ec",
   "metadata": {},
   "outputs": [],
   "source": []
  },
  {
   "cell_type": "code",
   "execution_count": 5,
   "id": "b823b55a-20ec-4fc7-bef6-da3d02431982",
   "metadata": {},
   "outputs": [],
   "source": [
    "# Định nghĩa UDF để gọi API sinh mô tả sản phẩm\n",
    "@udf(returnType=StringType())\n",
    "def generate_description(name):\n",
    "    if not name:  # Kiểm tra nếu name là None hoặc rỗng\n",
    "        return \"No name provided\"\n",
    "\n",
    "    logger.info(f\"Generating description for: {name}\")\n",
    "    \n",
    "    payload = {\n",
    "        \"model\": \"llama2:7b\",\n",
    "        \"prompt\": f\"Generate product description based on the name: {name}\",\n",
    "        \"stream\": False,\n",
    "        \"format\": \"json\"\n",
    "    }\n",
    "\n",
    "    try:\n",
    "        response = requests.post(\n",
    "            OLLAMA_ENDPOINT,\n",
    "            json=payload, \n",
    "            timeout=10  \n",
    "        )\n",
    "        \n",
    "        response.raise_for_status()\n",
    "        response_json = response.json()\n",
    "\n",
    "        logger.info(f\"Full API response: {json.dumps(response_json, indent=2)}\")\n",
    "\n",
    "        return json.dumps(response_json.get(\"response\", \"No response found\")).replace(\"\\n\", \" \")\n",
    "\n",
    "\n",
    "    except requests.RequestException as e:\n",
    "        logger.error(f\"Request failed: {e}\")\n",
    "        return \"Error generating description\""
   ]
  },
  {
   "cell_type": "code",
   "execution_count": null,
   "id": "3386bb36-81e4-400f-8789-a26d7f691b86",
   "metadata": {},
   "outputs": [],
   "source": [
    "df = df.withColumn(\"new_description\", generate_description(col(\"name\")))\n",
    "\n",
    "# Hiển thị dữ liệu mới\n",
    "# df.select(\"name\", \"new_description\").show(truncate=False)\n",
    "\n",
    "# Ghi dữ liệu ra file CSV (coalesce(1) để lưu thành một file duy nhất)\n",
    "df.coalesce(1).write.option(\"quote\", \"\\\"\").option(\"escape\", \"\\\"\").csv(\"product_output\", header=True, mode=\"overwrite\")\n",
    "\n",
    "# Dừng Spark session\n",
    "spark.stop()"
   ]
  },
  {
   "cell_type": "code",
   "execution_count": null,
   "id": "eb97cda9-5a52-468f-ac19-e9a01d93661a",
   "metadata": {},
   "outputs": [],
   "source": []
  },
  {
   "cell_type": "code",
   "execution_count": null,
   "id": "0ab61ad4-f53e-4b05-8a8a-d102a3738511",
   "metadata": {},
   "outputs": [],
   "source": []
  },
  {
   "cell_type": "code",
   "execution_count": null,
   "id": "35089094-0b21-4391-99d6-32c8fdcfe717",
   "metadata": {},
   "outputs": [],
   "source": []
  },
  {
   "cell_type": "code",
   "execution_count": null,
   "id": "41806b0c-f0c3-4b98-9f5a-d59f18cff433",
   "metadata": {},
   "outputs": [],
   "source": []
  }
 ],
 "metadata": {
  "kernelspec": {
   "display_name": "Python 3 (ipykernel)",
   "language": "python",
   "name": "python3"
  },
  "language_info": {
   "codemirror_mode": {
    "name": "ipython",
    "version": 3
   },
   "file_extension": ".py",
   "mimetype": "text/x-python",
   "name": "python",
   "nbconvert_exporter": "python",
   "pygments_lexer": "ipython3",
   "version": "3.9.13"
  }
 },
 "nbformat": 4,
 "nbformat_minor": 5
}
