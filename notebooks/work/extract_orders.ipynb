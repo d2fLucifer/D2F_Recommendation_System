{
 "cells": [
  {
   "cell_type": "code",
   "execution_count": 1,
   "id": "5048dff4-9aca-49ba-9f71-214a0bd46491",
   "metadata": {},
   "outputs": [],
   "source": [
    "from pyspark.sql import SparkSession\n",
    "from pyspark.sql.functions import col, get_json_object\n",
    "import logging\n",
    "from pyspark.sql.functions import col, count,desc\n",
    "from pyspark.sql.window import Window\n",
    "\n",
    "# Cấu hình logging\n",
    "logging.basicConfig(level=logging.INFO)\n",
    "logger = logging.getLogger(__name__)"
   ]
  },
  {
   "cell_type": "code",
   "execution_count": 2,
   "id": "0765e024-0eac-424d-b6a3-2ca68a444e13",
   "metadata": {},
   "outputs": [],
   "source": [
    "spark = SparkSession.builder \\\n",
    "    .appName(\"ExtractOrder\") \\\n",
    "    .getOrCreate()"
   ]
  },
  {
   "cell_type": "code",
   "execution_count": 3,
   "id": "6fc4b001-ec00-4b44-9833-69240c3ea296",
   "metadata": {},
   "outputs": [],
   "source": [
    "\n",
    "# Đọc file CSV\n",
    "df = spark.read.csv(\"dataset_with_name.csv\", header=True, inferSchema=True)\n",
    "\n"
   ]
  },
  {
   "cell_type": "code",
   "execution_count": 4,
   "id": "5598866e-4697-46d9-84ae-3e970785afbf",
   "metadata": {},
   "outputs": [
    {
     "name": "stdout",
     "output_type": "stream",
     "text": [
      "+-------------------+----------+----------+-------------------+--------------------+-------+------+---------+--------------------+--------------------+\n",
      "|         event_time|event_type|product_id|        category_id|       category_code|  brand| price|  user_id|        user_session|                name|\n",
      "+-------------------+----------+----------+-------------------+--------------------+-------+------+---------+--------------------+--------------------+\n",
      "|2019-11-16 11:54:03|      view|   1004858|2053013555631882655|electronics.smart...|samsung|128.42|557027114|56c4fa27-2298-400...|Smartphone Samsun...|\n",
      "|2019-11-05 09:36:31|      view|   1004872|2053013555631882655|electronics.smart...|samsung|270.23|513209166|56b2bf0c-18c7-4b4...|Smartphone Samsun...|\n",
      "|2019-11-16 13:21:15|      view|   2702053|2053013563911439225|appliances.kitche...|     lg|516.33|564970140|ac97a1c3-8412-4b6...|Refrigerators Lg ...|\n",
      "|2019-11-17 13:40:34|      cart|   1802037|2053013554415534427|electronics.video.tv|     lg|307.55|571961869|e36e63f5-571e-442...|       Tv Lg 1802037|\n",
      "|2019-11-20 08:12:31|      view|   4804056|2053013554658804075|electronics.audio...|  apple|165.84|573791911|badc2c1c-e2fa-490...|Headphone Apple 4...|\n",
      "+-------------------+----------+----------+-------------------+--------------------+-------+------+---------+--------------------+--------------------+\n",
      "only showing top 5 rows\n",
      "\n"
     ]
    }
   ],
   "source": [
    "df.show(5)"
   ]
  },
  {
   "cell_type": "code",
   "execution_count": 5,
   "id": "bce838fa-590e-4738-b7d9-4c7fc2b8be96",
   "metadata": {},
   "outputs": [
    {
     "name": "stdout",
     "output_type": "stream",
     "text": [
      "root\n",
      " |-- event_time: timestamp (nullable = true)\n",
      " |-- event_type: string (nullable = true)\n",
      " |-- product_id: integer (nullable = true)\n",
      " |-- category_id: long (nullable = true)\n",
      " |-- category_code: string (nullable = true)\n",
      " |-- brand: string (nullable = true)\n",
      " |-- price: double (nullable = true)\n",
      " |-- user_id: integer (nullable = true)\n",
      " |-- user_session: string (nullable = true)\n",
      " |-- name: string (nullable = true)\n",
      "\n"
     ]
    }
   ],
   "source": [
    "df.printSchema()"
   ]
  },
  {
   "cell_type": "code",
   "execution_count": 6,
   "id": "8c33284c-23e9-419d-870c-9b99c29feed2",
   "metadata": {},
   "outputs": [
    {
     "name": "stdout",
     "output_type": "stream",
     "text": [
      "+-------------------+----------+----------+-------------------+--------------------------------------+-------+-------+---------+------------------------------------+-----------------------------+\n",
      "|event_time         |event_type|product_id|category_id        |category_code                         |brand  |price  |user_id  |user_session                        |name                         |\n",
      "+-------------------+----------+----------+-------------------+--------------------------------------+-------+-------+---------+------------------------------------+-----------------------------+\n",
      "|2019-11-07 13:14:35|purchase  |1004833   |2053013555631882655|electronics.smartphone                |samsung|169.94 |564068124|cbbf5bc0-5b8b-4168-834f-c5190eabf3e5|Smartphone Samsung 1004833   |\n",
      "|2019-11-02 15:54:04|purchase  |1004767   |2053013555631882655|electronics.smartphone                |samsung|241.97 |564068124|3b00665a-daff-4a2c-bba2-a152cc6e62c9|Smartphone Samsung 1004767   |\n",
      "|2019-11-02 19:52:43|purchase  |1005186   |2053013555631882655|electronics.smartphone                |samsung|771.94 |564068124|ea8b8bc6-0a5d-41a2-8762-79b60ad6f963|Smartphone Samsung 1005186   |\n",
      "|2019-11-14 16:23:03|purchase  |4201541   |2053013552351936731|appliances.environment.air_conditioner|artel  |898.35 |512386086|0e81b02b-517f-4677-9e51-ab6820e504b5|Air_conditioner Artel 4201541|\n",
      "|2019-11-17 17:22:42|purchase  |1005116   |2053013555631882655|electronics.smartphone                |apple  |1013.64|518514099|1d34878d-1a42-401b-90a4-d44e2aa1e127|Smartphone Apple 1005116     |\n",
      "|2019-11-02 04:11:10|purchase  |1004767   |2053013555631882655|electronics.smartphone                |samsung|242.13 |564068124|4f4d574b-76b9-4a49-9e0a-200a28662082|Smartphone Samsung 1004767   |\n",
      "|2019-11-03 11:07:14|purchase  |1004767   |2053013555631882655|electronics.smartphone                |samsung|241.89 |564068124|62ea5ff8-94ec-4308-ab58-057c4718db83|Smartphone Samsung 1004767   |\n",
      "|2019-11-18 05:29:05|purchase  |4201541   |2053013552351936731|appliances.environment.air_conditioner|artel  |898.35 |512386086|37151c64-5ea2-414e-af84-9a46ca9ec49f|Air_conditioner Artel 4201541|\n",
      "|2019-11-17 16:38:32|purchase  |1005116   |2053013555631882655|electronics.smartphone                |apple  |1013.67|518514099|1d34878d-1a42-401b-90a4-d44e2aa1e127|Smartphone Apple 1005116     |\n",
      "|2019-11-05 14:38:47|purchase  |1004404   |2053013555631882655|electronics.smartphone                |xiaomi |176.3  |564068124|4d213519-3437-4f0b-a646-07e640e64d21|Smartphone Xiaomi 1004404    |\n",
      "|2019-11-17 17:40:32|purchase  |1005116   |2053013555631882655|electronics.smartphone                |apple  |1013.64|518514099|1d34878d-1a42-401b-90a4-d44e2aa1e127|Smartphone Apple 1005116     |\n",
      "|2019-11-28 09:09:10|purchase  |1005115   |2053013555631882655|electronics.smartphone                |apple  |916.37 |512386086|3edc3649-b8fb-473a-9340-1b38f22abc32|Smartphone Apple 1005115     |\n",
      "|2019-11-07 08:37:21|purchase  |1004833   |2053013555631882655|electronics.smartphone                |samsung|170.05 |564068124|d35aeca4-b7fd-43bf-923d-88a4c9c94b55|Smartphone Samsung 1004833   |\n",
      "|2019-11-30 07:04:56|purchase  |1004870   |2053013555631882655|electronics.smartphone                |samsung|285.05 |564068124|e6955252-e324-4839-8f97-61ad64b1c824|Smartphone Samsung 1004870   |\n",
      "|2019-11-04 09:03:39|purchase  |1004767   |2053013555631882655|electronics.smartphone                |samsung|241.84 |564068124|271ac5a9-9a08-48c6-96e9-84145ac8dc6a|Smartphone Samsung 1004767   |\n",
      "|2019-11-08 03:28:17|purchase  |1004655   |2053013555631882655|electronics.smartphone                |samsung|744.61 |564068124|35b18ca0-01de-46d4-a74b-e508a9ee8e40|Smartphone Samsung 1004655   |\n",
      "|2019-11-17 14:33:21|purchase  |1005116   |2053013555631882655|electronics.smartphone                |apple  |1013.85|518514099|4f373ab4-b6f4-4912-b963-c15f559e503c|Smartphone Apple 1005116     |\n",
      "|2019-11-02 15:23:25|purchase  |1004767   |2053013555631882655|electronics.smartphone                |samsung|241.97 |564068124|3b00665a-daff-4a2c-bba2-a152cc6e62c9|Smartphone Samsung 1004767   |\n",
      "|2019-11-08 06:33:59|purchase  |1004767   |2053013555631882655|electronics.smartphone                |samsung|240.38 |564068124|461d7f98-923b-4a0a-a970-251d7edff822|Smartphone Samsung 1004767   |\n",
      "|2019-11-08 06:26:15|purchase  |1004767   |2053013555631882655|electronics.smartphone                |samsung|240.38 |564068124|461d7f98-923b-4a0a-a970-251d7edff822|Smartphone Samsung 1004767   |\n",
      "+-------------------+----------+----------+-------------------+--------------------------------------+-------+-------+---------+------------------------------------+-----------------------------+\n",
      "only showing top 20 rows\n",
      "\n"
     ]
    }
   ],
   "source": [
    "# Lọc chỉ lấy các event có event_type = 'purchased'\n",
    "purchased_df = df.filter(col(\"event_type\") == \"purchase\")\n",
    "\n",
    "# Đếm số lượt mua của từng user_id\n",
    "user_purchase_counts = purchased_df.groupBy(\"user_id\").agg(count(\"*\").alias(\"purchase_count\"))\n",
    "\n",
    "# Lấy top 3 user có số lượt mua nhiều nhất\n",
    "top_3_users = user_purchase_counts.orderBy(desc(\"purchase_count\")).limit(3)\n",
    "\n",
    "# Lấy danh sách user_id của top 3 người dùng\n",
    "top_user_ids = [row[\"user_id\"] for row in top_3_users.collect()]\n",
    "\n",
    "# Lọc lại toàn bộ dữ liệu của các user này\n",
    "top_users_data = purchased_df.filter(col(\"user_id\").isin(top_user_ids))\n",
    "\n",
    "# Hiển thị kết quả\n",
    "top_users_data.show(truncate=False)"
   ]
  },
  {
   "cell_type": "code",
   "execution_count": null,
   "id": "755e26ef-929a-4349-8581-a900459b0897",
   "metadata": {},
   "outputs": [],
   "source": []
  }
 ],
 "metadata": {
  "kernelspec": {
   "display_name": "Python 3 (ipykernel)",
   "language": "python",
   "name": "python3"
  },
  "language_info": {
   "codemirror_mode": {
    "name": "ipython",
    "version": 3
   },
   "file_extension": ".py",
   "mimetype": "text/x-python",
   "name": "python",
   "nbconvert_exporter": "python",
   "pygments_lexer": "ipython3",
   "version": "3.9.13"
  }
 },
 "nbformat": 4,
 "nbformat_minor": 5
}
